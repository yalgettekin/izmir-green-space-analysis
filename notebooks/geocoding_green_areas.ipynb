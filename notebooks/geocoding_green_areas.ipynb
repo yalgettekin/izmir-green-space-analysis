{
 "cells": [
  {
   "cell_type": "markdown",
   "id": "db7c2ee1",
   "metadata": {},
   "source": [
    "# Geospatial Data Preparation for İzmir Green Space and Public Transportation Integration Analysis\n",
    "## 1. Introduction\n"
   ]
  },
  {
   "cell_type": "markdown",
   "id": "8a4351f8",
   "metadata": {},
   "source": [
    "This study aims to analyze the __availability and distribution of green spaces in İzmir__, focusing on their proximity to different neighborhoods. The dataset for İzmir’s green spaces was obtained in __CSV format from the [İzmir Open Data Portal](https://acikveri.bizizmir.com/dataset/kuzey-guney-alani-park-sayilari)__, containing only text-based addresses instead of geographic coordinates. To integrate this data into a GIS environment, we must first __convert these addresses into latitude and longitude coordinates.__\n",
    "This report outlines the data preparation process, including:\n",
    "1. __Geocoding__ green space addresses into latitude and longitude,\n",
    "2. __Converting__ the dataset into a geospatial format (Shapefile, GeoJSON, GPKG),\n",
    "3. __Ensuring__ compatibility with GIS tools such as QGIS and Python’s GeoPandas,\n",
    "4. __Preparing the dataset__ for further spatial analysis on __green space accessibility.__\n"
   ]
  },
  {
   "cell_type": "markdown",
   "id": "f8fcf154",
   "metadata": {},
   "source": [
    "## 2. Data Processing Steps\n"
   ]
  },
  {
   "cell_type": "markdown",
   "id": "dd9e0fbd",
   "metadata": {},
   "source": [
    "### Step 1: Converting Addresses to Geographic Coordinates (Geocoding)\n",
    "The first step is to convert the address-based location data into __latitude and longitude__ values. This is done using the geopy library, which queries OpenStreetMap’s __Nominatim API__ to retrieve geographic coordinates for each address."
   ]
  },
  {
   "cell_type": "code",
   "execution_count": 1,
   "id": "f44623e2",
   "metadata": {},
   "outputs": [],
   "source": [
    "from geopy.geocoders import Nominatim\n",
    "import pandas as pd\n",
    "import time"
   ]
  },
  {
   "cell_type": "code",
   "execution_count": 2,
   "id": "639b8367",
   "metadata": {},
   "outputs": [],
   "source": [
    "# Initialize the geolocator\n",
    "geolocator = Nominatim(user_agent=\"geo_app\")\n",
    "# Function to convert address to ccordinates \n",
    "# Function to convert address to coordinates\n",
    "def get_coordinates(address):\n",
    "    try:\n",
    "        location = geolocator.geocode(address)\n",
    "        if location:\n",
    "            return pd.Series([location.latitude, location.longitude])\n",
    "        else:\n",
    "            return pd.Series([None, None])\n",
    "    except:\n",
    "        return pd.Series([None, None])"
   ]
  },
  {
   "cell_type": "code",
   "execution_count": 3,
   "id": "dac03ae7",
   "metadata": {},
   "outputs": [],
   "source": [
    "# Load the CSV file containing green space data\n",
    "df_north= pd.read_csv(\"kuzeyparklar.csv\", sep=\";\")\n",
    "df_south= pd.read_csv(\"guneyparklar.csv\", sep=\";\")"
   ]
  },
  {
   "cell_type": "code",
   "execution_count": 4,
   "id": "698180ff",
   "metadata": {},
   "outputs": [
    {
     "data": {
      "text/html": [
       "<div>\n",
       "<style scoped>\n",
       "    .dataframe tbody tr th:only-of-type {\n",
       "        vertical-align: middle;\n",
       "    }\n",
       "\n",
       "    .dataframe tbody tr th {\n",
       "        vertical-align: top;\n",
       "    }\n",
       "\n",
       "    .dataframe thead th {\n",
       "        text-align: right;\n",
       "    }\n",
       "</style>\n",
       "<table border=\"1\" class=\"dataframe\">\n",
       "  <thead>\n",
       "    <tr style=\"text-align: right;\">\n",
       "      <th></th>\n",
       "      <th>YESIL_ALAN_TURU</th>\n",
       "      <th>ILCE</th>\n",
       "      <th>MAHALLE</th>\n",
       "      <th>ADRES</th>\n",
       "      <th>PARK_ADI</th>\n",
       "      <th>YESIL_ALAN_MIKTARI</th>\n",
       "      <th>KONDISYON_TAKIMI</th>\n",
       "      <th>OYUN_GRUBU</th>\n",
       "    </tr>\n",
       "  </thead>\n",
       "  <tbody>\n",
       "    <tr>\n",
       "      <th>0</th>\n",
       "      <td>Park</td>\n",
       "      <td>Bayraklı</td>\n",
       "      <td>Adalet Mahallesi</td>\n",
       "      <td>Manas Bulvarı No: 78</td>\n",
       "      <td>Adalet Mahallesi Muhtarlığı Yanı Parkı</td>\n",
       "      <td>1640</td>\n",
       "      <td>1.0</td>\n",
       "      <td>1.0</td>\n",
       "    </tr>\n",
       "    <tr>\n",
       "      <th>1</th>\n",
       "      <td>Park</td>\n",
       "      <td>Bayraklı</td>\n",
       "      <td>75. Yıl Mahallesi</td>\n",
       "      <td>1620/39 Sokak</td>\n",
       "      <td>Bayraklı 75.Yıl Parkı</td>\n",
       "      <td>2130</td>\n",
       "      <td>NaN</td>\n",
       "      <td>1.0</td>\n",
       "    </tr>\n",
       "  </tbody>\n",
       "</table>\n",
       "</div>"
      ],
      "text/plain": [
       "  YESIL_ALAN_TURU      ILCE            MAHALLE                 ADRES  \\\n",
       "0            Park  Bayraklı   Adalet Mahallesi  Manas Bulvarı No: 78   \n",
       "1            Park  Bayraklı  75. Yıl Mahallesi         1620/39 Sokak   \n",
       "\n",
       "                                 PARK_ADI  YESIL_ALAN_MIKTARI  \\\n",
       "0  Adalet Mahallesi Muhtarlığı Yanı Parkı                1640   \n",
       "1                  Bayraklı 75.Yıl Parkı                 2130   \n",
       "\n",
       "   KONDISYON_TAKIMI  OYUN_GRUBU  \n",
       "0               1.0         1.0  \n",
       "1               NaN         1.0  "
      ]
     },
     "execution_count": 4,
     "metadata": {},
     "output_type": "execute_result"
    }
   ],
   "source": [
    "df_north.head(2)"
   ]
  },
  {
   "cell_type": "code",
   "execution_count": 5,
   "id": "33b823a0",
   "metadata": {},
   "outputs": [],
   "source": [
    "# Apply geocoding function to each address\n",
    "df_north[['latitude', 'longitude']] = df_north['ADRES'].apply(get_coordinates)\n",
    "df_south[['latitude', 'longitude']] = df_south['ADRES'].apply(get_coordinates)"
   ]
  },
  {
   "cell_type": "code",
   "execution_count": 6,
   "id": "e473a922",
   "metadata": {},
   "outputs": [],
   "source": [
    "# Save the updated dataset\n",
    "df_north.to_csv(\"north_green_spaces_with_coordinates.csv\", index=False)\n",
    "df_south.to_csv(\"south_green_spaces_with_coordinates.csv\", index=False)"
   ]
  },
  {
   "cell_type": "markdown",
   "id": "3805fb27",
   "metadata": {},
   "source": [
    "#### Explanation\n",
    "* The script reads the green space dataset from the CSV file.\n",
    "* It queries OpenStreetMap’s API to obtain latitude and longitude for each address.\n",
    "* The new coordinate values are stored in the dataset, which is saved as green_spaces_with_coordinates.csv for further processing."
   ]
  },
  {
   "cell_type": "markdown",
   "id": "557bd4ed",
   "metadata": {},
   "source": [
    "### Step 2: Converting CSV Data into a Spatial Dataset\n"
   ]
  },
  {
   "cell_type": "markdown",
   "id": "cb2b20ca",
   "metadata": {},
   "source": [
    "Once we have latitude and longitude values, we need to convert the dataset into a geospatial format. This will allow us to perform spatial operations, such as identifying neighborhoods with limited green space availability."
   ]
  },
  {
   "cell_type": "code",
   "execution_count": 7,
   "id": "3b48144d",
   "metadata": {},
   "outputs": [],
   "source": [
    "import geopandas as gpd\n",
    "from shapely.geometry import Point"
   ]
  },
  {
   "cell_type": "code",
   "execution_count": 8,
   "id": "1e566d60",
   "metadata": {},
   "outputs": [],
   "source": [
    "# Load the CSV file with coordinates\n",
    "df_north = pd.read_csv(\"north_green_spaces_with_coordinates.csv\")\n",
    "df_south = pd.read_csv(\"south_green_spaces_with_coordinates.csv\")\n"
   ]
  },
  {
   "cell_type": "code",
   "execution_count": 9,
   "id": "cf6de74a",
   "metadata": {},
   "outputs": [],
   "source": [
    "# Create a geometry column with Point objects\n",
    "geometry_north = [Point(xy) for xy in zip(df_north.longitude, df_north.latitude)]\n",
    "gdf_north_green_spaces = gpd.GeoDataFrame(df_north, geometry=geometry_north, crs=\"EPSG:4326\")\n",
    "\n",
    "geometry_south = [Point(xy) for xy in zip(df_south.longitude, df_south.latitude)]\n",
    "gdf_south_green_spaces = gpd.GeoDataFrame(df_south, geometry=geometry_south, crs=\"EPSG:4326\")\n"
   ]
  },
  {
   "cell_type": "code",
   "execution_count": 10,
   "id": "cecd8d9e",
   "metadata": {},
   "outputs": [
    {
     "name": "stderr",
     "output_type": "stream",
     "text": [
      "C:\\Users\\yalge\\AppData\\Local\\Temp\\ipykernel_20804\\3964901530.py:2: UserWarning: Column names longer than 10 characters will be truncated when saved to ESRI Shapefile.\n",
      "  gdf_north_green_spaces.to_file(\"north_green_spaces.shp\")\n",
      "C:\\Users\\yalge\\AppData\\Local\\Temp\\ipykernel_20804\\3964901530.py:3: UserWarning: Column names longer than 10 characters will be truncated when saved to ESRI Shapefile.\n",
      "  gdf_south_green_spaces.to_file(\"south_green_spaces.shp\")\n"
     ]
    }
   ],
   "source": [
    "# Save as a Shapefile\n",
    "gdf_north_green_spaces.to_file(\"north_green_spaces.shp\")\n",
    "gdf_south_green_spaces.to_file(\"south_green_spaces.shp\")"
   ]
  },
  {
   "cell_type": "markdown",
   "id": "541823c8",
   "metadata": {},
   "source": [
    "#### Explanation\n",
    "* The script reads the updated CSV file and converts latitude/longitude pairs into geometric point objects using shapely.\n",
    "* A GeoDataFrame is created using geopandas, with the EPSG:4326 coordinate system (WGS 84).\n",
    "* The dataset is then saved as a Shapefile, making it compatible with GIS software like QGIS"
   ]
  },
  {
   "cell_type": "markdown",
   "id": "6ad48e3c",
   "metadata": {},
   "source": [
    "### Step 3: Handling Shapefile Column Name Limitations\n",
    "The ESRI Shapefile format restricts column names to 10 characters, which may result in truncation and loss of clarity. To prevent this, we rename long column names."
   ]
  },
  {
   "cell_type": "code",
   "execution_count": 11,
   "id": "5b5432d4",
   "metadata": {},
   "outputs": [],
   "source": [
    "# Rename long column names to fit the 10-character Shapefile limit\n",
    "gdf_north_green_spaces.rename(columns={\n",
    "    \"latitude\": \"lat\",\n",
    "    \"longitude\": \"lon\",\n",
    "    \"green_space_name\": \"gs_name\",\n",
    "    \"neighborhood_name\": \"nbhd_name\"\n",
    "}, inplace=True)"
   ]
  },
  {
   "cell_type": "code",
   "execution_count": 12,
   "id": "80cd7725",
   "metadata": {},
   "outputs": [],
   "source": [
    "gdf_south_green_spaces.rename(columns={\n",
    "    \"latitude\": \"lat\",\n",
    "    \"longitude\": \"lon\",\n",
    "    \"green_space_name\": \"gs_name\",\n",
    "    \"neighborhood_name\": \"nbhd_name\"\n",
    "}, inplace=True)"
   ]
  },
  {
   "cell_type": "code",
   "execution_count": 13,
   "id": "599b17f6",
   "metadata": {},
   "outputs": [
    {
     "name": "stderr",
     "output_type": "stream",
     "text": [
      "C:\\Users\\yalge\\AppData\\Local\\Temp\\ipykernel_20804\\1375902828.py:2: UserWarning: Column names longer than 10 characters will be truncated when saved to ESRI Shapefile.\n",
      "  gdf_north_green_spaces.to_file(\"north_green_spaces_fixed.shp\")\n",
      "C:\\Users\\yalge\\AppData\\Local\\Temp\\ipykernel_20804\\1375902828.py:3: UserWarning: Column names longer than 10 characters will be truncated when saved to ESRI Shapefile.\n",
      "  gdf_south_green_spaces.to_file(\"south_green_spaces_fixed.shp\")\n"
     ]
    }
   ],
   "source": [
    "# Save the adjusted dataset as a Shapefile\n",
    "gdf_north_green_spaces.to_file(\"north_green_spaces_fixed.shp\")\n",
    "gdf_south_green_spaces.to_file(\"south_green_spaces_fixed.shp\")"
   ]
  },
  {
   "cell_type": "markdown",
   "id": "52d1920b",
   "metadata": {},
   "source": [
    "#### Explanation\n",
    "* Long column names (e.g., green_space_name, neighborhood_name) are shortened to comply with Shapefile constraints.\n",
    "* The dataset is saved again as a Shapefile with the modified column names, ensuring compatibility with GIS applications."
   ]
  },
  {
   "cell_type": "markdown",
   "id": "9fcb2a64",
   "metadata": {},
   "source": [
    "### Step 4: Saving in Alternative Geospatial Formats\n",
    "Since Shapefile has limitations, we also save the dataset in __GeoJSON__ and __GPKG (Geopackage)__ formats, which allow longer column names and support more advanced geospatial queries."
   ]
  },
  {
   "cell_type": "code",
   "execution_count": 14,
   "id": "a5effa5d",
   "metadata": {},
   "outputs": [],
   "source": [
    "# Save as GeoJSON (widely used for web applications)\n",
    "gdf_north_green_spaces.to_file(\"north_green_spaces.geojson\", driver=\"GeoJSON\")\n",
    "gdf_south_green_spaces.to_file(\"south_green_spaces.geojson\", driver=\"GeoJSON\")"
   ]
  },
  {
   "cell_type": "code",
   "execution_count": 15,
   "id": "1ea73134",
   "metadata": {},
   "outputs": [],
   "source": [
    "# Save as GPKG (supports larger datasets and long column names)\n",
    "gdf_north_green_spaces.to_file(\"north_green_spaces.gpkg\", driver=\"GPKG\")\n",
    "gdf_south_green_spaces.to_file(\"south_green_spaces.gpkg\", driver=\"GPKG\")"
   ]
  },
  {
   "cell_type": "markdown",
   "id": "ffd9fcdb",
   "metadata": {},
   "source": [
    "#### Explanation\n",
    "* GeoJSON is useful for web mapping applications and online GIS tools.\n",
    "* GPKG (Geopackage) is a modern alternative to Shapefile, supporting large datasets and long attribute names.\n"
   ]
  },
  {
   "cell_type": "markdown",
   "id": "ff401ade",
   "metadata": {},
   "source": [
    "## 3. Conclusion and Next Steps\n",
    "With these processing steps completed, we now have a fully geospatial dataset of green spaces in İzmir. This dataset will be used for spatial accessibility analysis, helping to evaluate:\n",
    "\n",
    "* Green space availability per neighborhood\n",
    "* Identification of underserved areas\n",
    "* Proximity analysis for different population groups\n",
    "\n",
    "This prepared dataset will serve as the foundation for evidence-based urban planning to ensure equitable access to green spaces in İzmir."
   ]
  },
  {
   "cell_type": "code",
   "execution_count": null,
   "id": "682dc785",
   "metadata": {},
   "outputs": [],
   "source": []
  }
 ],
 "metadata": {
  "kernelspec": {
   "display_name": "Python 3 (ipykernel)",
   "language": "python",
   "name": "python3"
  },
  "language_info": {
   "codemirror_mode": {
    "name": "ipython",
    "version": 3
   },
   "file_extension": ".py",
   "mimetype": "text/x-python",
   "name": "python",
   "nbconvert_exporter": "python",
   "pygments_lexer": "ipython3",
   "version": "3.11.4"
  }
 },
 "nbformat": 4,
 "nbformat_minor": 5
}
